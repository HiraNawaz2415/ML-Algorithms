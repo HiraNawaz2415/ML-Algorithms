{
 "metadata": {
  "language_info": {
   "codemirror_mode": {
    "name": "ipython",
    "version": 3
   },
   "file_extension": ".py",
   "mimetype": "text/x-python",
   "name": "python",
   "nbconvert_exporter": "python",
   "pygments_lexer": "ipython3",
   "version": 3
  },
  "orig_nbformat": 2
 },
 "nbformat": 4,
 "nbformat_minor": 2,
 "cells": [
  {
   "cell_type": "code",
   "execution_count": null,
   "metadata": {},
   "outputs": [],
   "source": [
    "# What is Multiple Linear Regression?\n",
    "- “Predict one thing using multiple other things.”\n",
    "- multiple inputs and one output\n",
    "- draw a plane for 2d and hyperplane for onwords"
   ]
  }
 ]
}
