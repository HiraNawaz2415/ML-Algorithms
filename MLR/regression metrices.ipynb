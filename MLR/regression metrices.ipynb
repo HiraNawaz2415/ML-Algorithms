{
 "metadata": {
  "language_info": {
   "codemirror_mode": {
    "name": "ipython",
    "version": 3
   },
   "file_extension": ".py",
   "mimetype": "text/x-python",
   "name": "python",
   "nbconvert_exporter": "python",
   "pygments_lexer": "ipython3",
   "version": 3
  },
  "orig_nbformat": 2
 },
 "nbformat": 4,
 "nbformat_minor": 2,
 "cells": [
  {
   "source": [
    "# What Are Regression Metrics?\n",
    "Regression metrics are used to evaluate the performance of a regression model—i.e., how well the model's predicted values match the actual continuous target values.\n",
    "## 1. Mean Absolute Error (MAE)\n",
    "Definition: Average of the absolute differences between predicted and actual values.\n",
    "\n",
    "**Formula:**\n",
    "\n",
    "         MAE=1/𝑛∑∣𝑦true−𝑦pred∣\n",
    "\n",
    "**Interpretation:** Lower is better; how much your predictions are off on average.\n",
    "\n",
    "---\n",
    "## 2. Mean Squared Error (MSE)\n",
    "Definition: Average of the squared differences between predicted and actual values.\n",
    "\n",
    "**Formula:**\n",
    "\n",
    "           MAE=1/𝑛∑(𝑦true−𝑦pred)^2\n",
    " \n",
    "**Interpretation** More sensitive to outliers than MAE (because errors are squared).\n",
    "\n",
    "---\n",
    "\n",
    "## 3. Root Mean Squared Error (RMSE)\n",
    "Definition: Square root of MSE. Puts error back in the original unit.\n",
    "\n",
    "Formula:\n",
    "\n",
    "    - RMSE=Sqroot(MSE)\n",
    " \n",
    "**Interpretation:** Easier to interpret than MSE.\n",
    "\n",
    "---\n",
    "## 4. R-squared (R²) — Coefficient of Determination\n",
    "Definition: Tells you how much variance in the target is explained by the model.\n",
    "\n",
    "Range: 0 to 1 (or negative if worse than a straight line)\n",
    "\n",
    "Formula:\n",
    "\n",
    "𝑅2=1−SSres/SStot\n",
    " \n",
    "**Interpretation:**\n",
    "\n",
    "- 1: Perfect prediction\n",
    "\n",
    "- 0: Model does no better than predicting the mean\n",
    "\n",
    "- < 0: Model is worse than using the mean"
   ],
   "cell_type": "markdown",
   "metadata": {}
  },
  {
   "source": [
    "## When to use when\n",
    "\n",
    "| Metric   | Best For                        | Notes                                  |\n",
    "| -------- | ------------------------------- | -------------------------------------- |\n",
    "| **MAE**  | General error understanding     | Less sensitive to outliers             |\n",
    "| **MSE**  | Emphasizing large errors        | Penalizes big errors more              |\n",
    "| **RMSE** | Same as above but interpretable | Most commonly reported                 |\n",
    "| **R²**   | How good is your model overall? | Gives percentage of variance explained |\n"
   ],
   "cell_type": "markdown",
   "metadata": {}
  },
  {
   "cell_type": "code",
   "execution_count": null,
   "metadata": {},
   "outputs": [],
   "source": []
  }
 ]
}
